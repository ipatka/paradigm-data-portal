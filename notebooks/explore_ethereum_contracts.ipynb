{
 "cells": [
  {
   "cell_type": "markdown",
   "id": "86faefdf",
   "metadata": {},
   "source": [
    "# Ethereum Contracts\n",
    "\n",
    "This notebook demonstrates how to use the `ethereum_contracts` dataset to answer questions about the history of contracts on Ethereum.\n",
    "\n",
    "Additional information about this dataset can be found [here](https://github.com/paradigmxyz/paradigm-data-portal/tree/main/datasets/ethereum_contracts)\n",
    "\n",
    "The examples below use [polars](https://github.com/pola-rs/polars) library to read the files directly without needing to import them to a database. Files are stored in S3 and are loaded using `pl.scan_arrows_dataset`. It is recommended to tuse the 'large' instance with this config.\n",
    "\n",
    "\n",
    "## Ethereum contracts by the numbers\n",
    "\n",
    "All of these fun facts are computed in the examples below:\n",
    "```\n",
    "- 20% of all ethereum contracts have been deployed by just 10 EOAs\n",
    "- 49% of all ethereum contracts have been created by just 10 factories\n",
    "- 56% of all ethereum contracts use just 10 bytecode templates\n",
    "- 0.46% of ethereum addresses have been deployed more than once\n",
    "- The most times that a single contract address has been deployed is 848\n",
    "- The most contracts deployed in a single transaction or block is 701\n",
    "- 57M contracts have been deployed by 4.2M EOAs using 492K factories\n",
    "- Only 878K unique contracts have been deployed\n",
    "- The most leading zeros in a contract address is 14, of which there are 2 contracts\n",
    "```"
   ]
  },
  {
   "cell_type": "code",
   "execution_count": 2,
   "id": "4ba00774",
   "metadata": {
    "ExecuteTime": {
     "end_time": "2023-03-17T08:37:40.163071Z",
     "start_time": "2023-03-17T08:37:39.574478Z"
    },
    "tags": []
   },
   "outputs": [
    {
     "name": "stdout",
     "output_type": "stream",
     "text": [
      "sagemaker.config INFO - Not applying SDK defaults from location: /etc/xdg/sagemaker/config.yaml\n",
      "sagemaker.config INFO - Not applying SDK defaults from location: /root/.config/sagemaker/config.yaml\n"
     ]
    }
   ],
   "source": [
    "import math\n",
    "import os\n",
    "import shutil\n",
    "import subprocess\n",
    "\n",
    "import ctc\n",
    "import ctc.rpc\n",
    "import polars as pl\n",
    "import matplotlib.pyplot as plt\n",
    "import toolplot\n",
    "import numpy as np\n",
    "import toolstr\n",
    "import s3fs\n",
    "import boto3\n",
    "import sagemaker\n",
    "import pyarrow.dataset as ds\n",
    "fs = s3fs.S3FileSystem()"
   ]
  },
  {
   "cell_type": "code",
   "execution_count": 3,
   "id": "3c9e97be-e188-43f9-b34b-fd2109d7b4fd",
   "metadata": {
    "tags": []
   },
   "outputs": [
    {
     "name": "stdout",
     "output_type": "stream",
     "text": [
      "sagemaker.config INFO - Not applying SDK defaults from location: /etc/xdg/sagemaker/config.yaml\n",
      "sagemaker.config INFO - Not applying SDK defaults from location: /root/.config/sagemaker/config.yaml\n",
      "sagemaker.config INFO - Not applying SDK defaults from location: /etc/xdg/sagemaker/config.yaml\n",
      "sagemaker.config INFO - Not applying SDK defaults from location: /root/.config/sagemaker/config.yaml\n"
     ]
    }
   ],
   "source": [
    "# Set SageMaker and S3 client variables\n",
    "sess = sagemaker.Session()\n",
    "\n",
    "region = sess.boto_region_name\n",
    "s3_client = boto3.client(\"s3\", region_name=region)\n",
    "\n",
    "sagemaker_role = sagemaker.get_execution_role()\n",
    "\n",
    "# Set read and write S3 buckets and locations\n",
    "data_bucket = sess.default_bucket()"
   ]
  },
  {
   "cell_type": "code",
   "execution_count": 4,
   "id": "21ef5ec5",
   "metadata": {
    "ExecuteTime": {
     "end_time": "2023-03-17T08:37:40.165873Z",
     "start_time": "2023-03-17T08:37:40.164035Z"
    },
    "tags": []
   },
   "outputs": [],
   "source": [
    "# set up env\n",
    "\n",
    "dataset = \"ethereum_contracts\"\n",
    "data_path = f\"{data_bucket}/{dataset}\"\n",
    "\n",
    "# Get a list of all files in the directory\n",
    "files = fs.ls(data_path)\n",
    "\n",
    "# Filter the list to include only Parquet files\n",
    "parquet_files = [f for f in files if f.endswith('.parquet')]\n",
    "\n",
    "dataset = ds.dataset(parquet_files, format='parquet', filesystem=fs)\n",
    "df = pl.scan_pyarrow_dataset(dataset)"
   ]
  },
  {
   "cell_type": "markdown",
   "id": "a3dbb36c",
   "metadata": {},
   "source": [
    "# Let's count the entites and events in the data..."
   ]
  },
  {
   "cell_type": "code",
   "execution_count": 6,
   "id": "0530cfab",
   "metadata": {
    "ExecuteTime": {
     "end_time": "2023-03-17T08:37:40.169216Z",
     "start_time": "2023-03-17T08:37:40.167367Z"
    },
    "tags": []
   },
   "outputs": [],
   "source": [
    "def get_unique_column_count(column):\n",
    "    result = df.select(\n",
    "        pl.col(column).n_unique(),\n",
    "    ).collect(streaming=True)\n",
    "    return result[column][0]"
   ]
  },
  {
   "cell_type": "markdown",
   "id": "51819def",
   "metadata": {},
   "source": [
    "### How many contract deployments have there been?"
   ]
  },
  {
   "cell_type": "code",
   "execution_count": 5,
   "id": "5dd807b5",
   "metadata": {
    "ExecuteTime": {
     "end_time": "2023-03-17T08:37:40.337997Z",
     "start_time": "2023-03-17T08:37:40.170346Z"
    },
    "tags": []
   },
   "outputs": [
    {
     "data": {
      "text/plain": [
       "57887821"
      ]
     },
     "execution_count": 5,
     "metadata": {},
     "output_type": "execute_result"
    }
   ],
   "source": [
    "result = df.select(pl.col('create_index').count()).collect()\n",
    "n_deployments = result['create_index'][0]\n",
    "\n",
    "n_deployments"
   ]
  },
  {
   "cell_type": "markdown",
   "id": "65a3b65b",
   "metadata": {},
   "source": [
    "### How many unique contract addresses have been deployed?"
   ]
  },
  {
   "cell_type": "code",
   "execution_count": 13,
   "id": "c7932fad",
   "metadata": {
    "ExecuteTime": {
     "end_time": "2023-03-17T08:37:45.994489Z",
     "start_time": "2023-03-17T08:37:40.338942Z"
    },
    "tags": []
   },
   "outputs": [
    {
     "data": {
      "text/plain": [
       "57314368"
      ]
     },
     "execution_count": 13,
     "metadata": {},
     "output_type": "execute_result"
    }
   ],
   "source": [
    "n_unique_contract_addresses = get_unique_column_count('contract_address')\n",
    "\n",
    "n_unique_contract_addresses"
   ]
  },
  {
   "cell_type": "markdown",
   "id": "a31d2882",
   "metadata": {
    "ExecuteTime": {
     "end_time": "2023-03-17T07:32:30.733225Z",
     "start_time": "2023-03-17T07:32:30.730521Z"
    }
   },
   "source": [
    "### How many factories have been used to create contracts?"
   ]
  },
  {
   "cell_type": "code",
   "execution_count": 14,
   "id": "0c25ad4e",
   "metadata": {
    "ExecuteTime": {
     "end_time": "2023-03-17T08:37:47.417752Z",
     "start_time": "2023-03-17T08:37:45.995334Z"
    },
    "tags": []
   },
   "outputs": [
    {
     "data": {
      "text/plain": [
       "491663"
      ]
     },
     "execution_count": 14,
     "metadata": {},
     "output_type": "execute_result"
    }
   ],
   "source": [
    "get_unique_column_count('factory')"
   ]
  },
  {
   "cell_type": "markdown",
   "id": "b1ff5170",
   "metadata": {},
   "source": [
    "### How many EOAs have deployed contracts?"
   ]
  },
  {
   "cell_type": "code",
   "execution_count": 7,
   "id": "6a261ae8",
   "metadata": {
    "ExecuteTime": {
     "end_time": "2023-03-17T08:37:49.222589Z",
     "start_time": "2023-03-17T08:37:47.418595Z"
    }
   },
   "outputs": [
    {
     "data": {
      "text/plain": [
       "4228306"
      ]
     },
     "execution_count": 7,
     "metadata": {},
     "output_type": "execute_result"
    }
   ],
   "source": [
    "get_unique_column_count('deployer')"
   ]
  },
  {
   "cell_type": "markdown",
   "id": "36232d5e",
   "metadata": {
    "ExecuteTime": {
     "end_time": "2023-03-17T07:47:06.448334Z",
     "start_time": "2023-03-17T07:47:06.437229Z"
    }
   },
   "source": [
    "### How many unique contract bytecodes have been deployed?"
   ]
  },
  {
   "cell_type": "code",
   "execution_count": 8,
   "id": "6774e0e6",
   "metadata": {
    "ExecuteTime": {
     "end_time": "2023-03-17T08:37:50.801194Z",
     "start_time": "2023-03-17T08:37:49.223456Z"
    }
   },
   "outputs": [
    {
     "data": {
      "text/plain": [
       "878235"
      ]
     },
     "execution_count": 8,
     "metadata": {},
     "output_type": "execute_result"
    }
   ],
   "source": [
    "get_unique_column_count('code_hash')"
   ]
  },
  {
   "cell_type": "markdown",
   "id": "f92d9488",
   "metadata": {},
   "source": [
    "### How many contract addresses have been deployed more than one time?"
   ]
  },
  {
   "cell_type": "code",
   "execution_count": 15,
   "id": "1ea9db30",
   "metadata": {
    "ExecuteTime": {
     "end_time": "2023-03-17T08:37:59.350041Z",
     "start_time": "2023-03-17T08:37:50.803493Z"
    },
    "tags": []
   },
   "outputs": [
    {
     "name": "stderr",
     "output_type": "stream",
     "text": [
      "/tmp/ipykernel_714/328330587.py:3: DeprecationWarning: `groupby` is deprecated. It has been renamed to `group_by`.\n",
      "  .groupby(pl.col(\"contract_address\"))\n"
     ]
    },
    {
     "data": {
      "text/plain": [
       "265431"
      ]
     },
     "execution_count": 15,
     "metadata": {},
     "output_type": "execute_result"
    }
   ],
   "source": [
    "n_deployed_more_than_once = (\n",
    "    df\n",
    "    .groupby(pl.col(\"contract_address\"))\n",
    "    .agg(pl.count())\n",
    "    .filter(pl.col('count') > 1)\n",
    "    .select(pl.count())\n",
    "    .collect(streaming=True)\n",
    ").rows()[0][0]\n",
    "\n",
    "n_deployed_more_than_once"
   ]
  },
  {
   "cell_type": "code",
   "execution_count": 16,
   "id": "09647a8f",
   "metadata": {
    "ExecuteTime": {
     "end_time": "2023-03-17T08:37:59.353187Z",
     "start_time": "2023-03-17T08:37:59.350984Z"
    },
    "tags": []
   },
   "outputs": [
    {
     "name": "stdout",
     "output_type": "stream",
     "text": [
      "0.46% of contract addresses have been deployed more than once\n"
     ]
    }
   ],
   "source": [
    "more_than_once_percent = toolstr.format(\n",
    "    n_deployed_more_than_once / n_unique_contract_addresses,\n",
    "    percentage=True,\n",
    "    decimals=2,\n",
    ")\n",
    "print(more_than_once_percent, 'of contract addresses have been deployed more than once')"
   ]
  },
  {
   "cell_type": "markdown",
   "id": "4010a16f",
   "metadata": {},
   "source": [
    "# Let's look at some top 10 leaderboards"
   ]
  },
  {
   "cell_type": "code",
   "execution_count": 17,
   "id": "c3ab908c",
   "metadata": {
    "ExecuteTime": {
     "end_time": "2023-03-17T08:37:59.356539Z",
     "start_time": "2023-03-17T08:37:59.354132Z"
    },
    "tags": []
   },
   "outputs": [],
   "source": [
    "def get_top_n(column, n):\n",
    "    col = '0x' + (pl.col(column).struct.field(column).bin.encode('hex'))\n",
    "    return (\n",
    "        df\n",
    "        .select(pl.col(column).value_counts())\n",
    "        .select([col.alias(column), pl.col(column).struct.field('counts')])\n",
    "        .sort('counts', descending=True)\n",
    "        .head(n)\n",
    "        .collect(streaming=True)\n",
    "    )"
   ]
  },
  {
   "cell_type": "markdown",
   "id": "16d8a3b0",
   "metadata": {},
   "source": [
    "### Which EOAs have deployed the most contracts?"
   ]
  },
  {
   "cell_type": "code",
   "execution_count": 18,
   "id": "a60b21d5",
   "metadata": {
    "ExecuteTime": {
     "end_time": "2023-03-17T08:38:02.583756Z",
     "start_time": "2023-03-17T08:37:59.357442Z"
    },
    "scrolled": true,
    "tags": []
   },
   "outputs": [
    {
     "data": {
      "text/html": [
       "<div><style>\n",
       ".dataframe > thead > tr > th,\n",
       ".dataframe > tbody > tr > td {\n",
       "  text-align: right;\n",
       "  white-space: pre-wrap;\n",
       "}\n",
       "</style>\n",
       "<small>shape: (10, 2)</small><table border=\"1\" class=\"dataframe\"><thead><tr><th>deployer</th><th>counts</th></tr><tr><td>str</td><td>u32</td></tr></thead><tbody><tr><td>&quot;0xffff46e05a09…</td><td>2854163</td></tr><tr><td>&quot;0xe5c99b740572…</td><td>1822822</td></tr><tr><td>&quot;0x6cace0528324…</td><td>1579922</td></tr><tr><td>&quot;0x5f5a901463fb…</td><td>954224</td></tr><tr><td>&quot;0xf24c621e5108…</td><td>952859</td></tr><tr><td>&quot;0x9901c66f2d4b…</td><td>801294</td></tr><tr><td>&quot;0xfc9161b4ca1e…</td><td>665752</td></tr><tr><td>&quot;0x2aab3ddd93ed…</td><td>600176</td></tr><tr><td>&quot;0x06ca51ab3c82…</td><td>542637</td></tr><tr><td>&quot;0xddd26c200bf6…</td><td>529780</td></tr></tbody></table></div>"
      ],
      "text/plain": [
       "shape: (10, 2)\n",
       "┌───────────────────────────────────┬─────────┐\n",
       "│ deployer                          ┆ counts  │\n",
       "│ ---                               ┆ ---     │\n",
       "│ str                               ┆ u32     │\n",
       "╞═══════════════════════════════════╪═════════╡\n",
       "│ 0xffff46e05a09314daae9176fc32dba… ┆ 2854163 │\n",
       "│ 0xe5c99b740572c2dabf7e3a418c4e9d… ┆ 1822822 │\n",
       "│ 0x6cace0528324a8afc2b157ceba3cdd… ┆ 1579922 │\n",
       "│ 0x5f5a901463fbffeca2b4dfad613bc4… ┆ 954224  │\n",
       "│ …                                 ┆ …       │\n",
       "│ 0xfc9161b4ca1e5db6fecf7d914a73c9… ┆ 665752  │\n",
       "│ 0x2aab3ddd93ededc4d4275bef3e4f4d… ┆ 600176  │\n",
       "│ 0x06ca51ab3c82c4a834872ebff806a9… ┆ 542637  │\n",
       "│ 0xddd26c200bf6dbb775a9d91fc24b5e… ┆ 529780  │\n",
       "└───────────────────────────────────┴─────────┘"
      ]
     },
     "execution_count": 18,
     "metadata": {},
     "output_type": "execute_result"
    }
   ],
   "source": [
    "top_10_deployers = get_top_n('deployer', 10)\n",
    "\n",
    "top_10_deployers"
   ]
  },
  {
   "cell_type": "code",
   "execution_count": 13,
   "id": "600894d1",
   "metadata": {
    "ExecuteTime": {
     "end_time": "2023-03-17T08:38:02.586682Z",
     "start_time": "2023-03-17T08:38:02.584645Z"
    }
   },
   "outputs": [
    {
     "name": "stdout",
     "output_type": "stream",
     "text": [
      "The top 10 deployers have deployed 19.5% of all contracts on Ethereum\n"
     ]
    }
   ],
   "source": [
    "top_10_deployer_percent = toolstr.format(\n",
    "    top_10_deployers['counts'].sum() / n_deployments,\n",
    "    percentage=True,\n",
    "    decimals=1,\n",
    ")\n",
    "\n",
    "print('The top 10 deployers have deployed', top_10_deployer_percent, 'of all contracts on Ethereum')"
   ]
  },
  {
   "cell_type": "markdown",
   "id": "84871342",
   "metadata": {},
   "source": [
    "### Which factories have deployed the most contracts?"
   ]
  },
  {
   "cell_type": "code",
   "execution_count": 14,
   "id": "65f539ac",
   "metadata": {
    "ExecuteTime": {
     "end_time": "2023-03-17T08:38:04.413081Z",
     "start_time": "2023-03-17T08:38:02.587389Z"
    }
   },
   "outputs": [
    {
     "data": {
      "text/html": [
       "<div><style>\n",
       ".dataframe > thead > tr > th,\n",
       ".dataframe > tbody > tr > td {\n",
       "  text-align: right;\n",
       "}\n",
       "</style>\n",
       "<small>shape: (10, 2)</small><table border=\"1\" class=\"dataframe\"><thead><tr><th>factory</th><th>counts</th></tr><tr><td>str</td><td>u32</td></tr></thead><tbody><tr><td>&quot;0x0000000000004946c0e9f43f4dee607b0ef1fa1c&quot;</td><td>10364776</td></tr><tr><td>&quot;0x0000000000b3f879cb30fe243b4dfee438691c04&quot;</td><td>6493824</td></tr><tr><td>&quot;0x0de8bf93da2f7eecb3d9169422413a9bef4ef628&quot;</td><td>2324361</td></tr><tr><td>&quot;0x0000000000007f150bd6f54c40a34d7c3d5e9f56&quot;</td><td>1647068</td></tr><tr><td>&quot;0xa3c1e324ca1ce40db73ed6026c4a177f099b5770&quot;</td><td>1586334</td></tr><tr><td>&quot;0xa5409ec958c83c3f309868babaca7c86dcb077c1&quot;</td><td>1552418</td></tr><tr><td>&quot;0x8a91c9a16cd62693649d80afa85a09dbbdcb8508&quot;</td><td>1088378</td></tr><tr><td>&quot;0x0a252663dbcc0b073063d6420a40319e438cfa59&quot;</td><td>1021675</td></tr><tr><td>&quot;0x881d4032abe4188e2237efcd27ab435e81fc6bb1&quot;</td><td>994275</td></tr><tr><td>&quot;0x46d781c076596e1836f62461f150f387ad140c0e&quot;</td><td>952859</td></tr></tbody></table></div>"
      ],
      "text/plain": [
       "shape: (10, 2)\n",
       "┌────────────────────────────────────────────┬──────────┐\n",
       "│ factory                                    ┆ counts   │\n",
       "│ ---                                        ┆ ---      │\n",
       "│ str                                        ┆ u32      │\n",
       "╞════════════════════════════════════════════╪══════════╡\n",
       "│ 0x0000000000004946c0e9f43f4dee607b0ef1fa1c ┆ 10364776 │\n",
       "│ 0x0000000000b3f879cb30fe243b4dfee438691c04 ┆ 6493824  │\n",
       "│ 0x0de8bf93da2f7eecb3d9169422413a9bef4ef628 ┆ 2324361  │\n",
       "│ 0x0000000000007f150bd6f54c40a34d7c3d5e9f56 ┆ 1647068  │\n",
       "│ ...                                        ┆ ...      │\n",
       "│ 0x8a91c9a16cd62693649d80afa85a09dbbdcb8508 ┆ 1088378  │\n",
       "│ 0x0a252663dbcc0b073063d6420a40319e438cfa59 ┆ 1021675  │\n",
       "│ 0x881d4032abe4188e2237efcd27ab435e81fc6bb1 ┆ 994275   │\n",
       "│ 0x46d781c076596e1836f62461f150f387ad140c0e ┆ 952859   │\n",
       "└────────────────────────────────────────────┴──────────┘"
      ]
     },
     "execution_count": 14,
     "metadata": {},
     "output_type": "execute_result"
    }
   ],
   "source": [
    "top_10_factories = get_top_n('factory', 10)\n",
    "\n",
    "top_10_factories"
   ]
  },
  {
   "cell_type": "code",
   "execution_count": 15,
   "id": "1707c794",
   "metadata": {
    "ExecuteTime": {
     "end_time": "2023-03-17T08:38:04.416040Z",
     "start_time": "2023-03-17T08:38:04.414078Z"
    }
   },
   "outputs": [
    {
     "name": "stdout",
     "output_type": "stream",
     "text": [
      "The top 10 factories have deployed 48.4% of all contracts on Ethereum\n"
     ]
    }
   ],
   "source": [
    "top_10_factory_percent = toolstr.format(\n",
    "    top_10_factories['counts'].sum() / n_deployments,\n",
    "    percentage=True,\n",
    "    decimals=1,\n",
    ")\n",
    "\n",
    "print('The top 10 factories have deployed', top_10_factory_percent, 'of all contracts on Ethereum')"
   ]
  },
  {
   "cell_type": "markdown",
   "id": "1547b71b",
   "metadata": {},
   "source": [
    "### Which contract bytecodes are most common?"
   ]
  },
  {
   "cell_type": "code",
   "execution_count": 16,
   "id": "9402c4fb",
   "metadata": {
    "ExecuteTime": {
     "end_time": "2023-03-17T08:38:06.506449Z",
     "start_time": "2023-03-17T08:38:04.416917Z"
    }
   },
   "outputs": [
    {
     "data": {
      "text/html": [
       "<div><style>\n",
       ".dataframe > thead > tr > th,\n",
       ".dataframe > tbody > tr > td {\n",
       "  text-align: right;\n",
       "}\n",
       "</style>\n",
       "<small>shape: (10, 2)</small><table border=\"1\" class=\"dataframe\"><thead><tr><th>code_hash</th><th>counts</th></tr><tr><td>str</td><td>u32</td></tr></thead><tbody><tr><td>&quot;0x1d93f60f105899172f7255c030301c3af4564edd4a48577dbdc448aec7ddb0ac&quot;</td><td>10365216</td></tr><tr><td>&quot;0xd80cd839dd3957d572b90780ada202a13936fa2875daea94216263371e9ef1d2&quot;</td><td>6494337</td></tr><tr><td>&quot;0xc5d2460186f7233c927e7db2dcc703c0e500b653ca82273b7bfad8045d85a470&quot;</td><td>4853969</td></tr><tr><td>&quot;0x562d59a51820d47f520c975e0b2bcffac644a509749a3161f481f57b6e826d21&quot;</td><td>2324361</td></tr><tr><td>&quot;0x8f789d24f75f80df63f1d69c18963fb4c2dea81ade3b780fd0c886e4d1fabc4a&quot;</td><td>1647068</td></tr><tr><td>&quot;0xce33220d5c7f0d09d75ceff76c05863c5e7d6e801c70dfe7d5d45d4c44e80654&quot;</td><td>1595657</td></tr><tr><td>&quot;0x99c99f1a6d65a9097e0f8ca61683878ed26099e347359f5cdc600bd194dbe908&quot;</td><td>1548789</td></tr><tr><td>&quot;0x647d5d7eb5af6fbf9ed95320cadf658cec3819ffa536adc7b6387fdf1b72123d&quot;</td><td>1542104</td></tr><tr><td>&quot;0x2df39c0062882ba634fb24c89e7f9871ecef10a6e6a6e79a336f6ed463d5c942&quot;</td><td>1175582</td></tr><tr><td>&quot;0x905982d3bc98b3ad75d5ca7a92446cc8923fae39a2352245000f9d3e9dc0f3ee&quot;</td><td>1088378</td></tr></tbody></table></div>"
      ],
      "text/plain": [
       "shape: (10, 2)\n",
       "┌────────────────────────────────────────────────────────────────────┬──────────┐\n",
       "│ code_hash                                                          ┆ counts   │\n",
       "│ ---                                                                ┆ ---      │\n",
       "│ str                                                                ┆ u32      │\n",
       "╞════════════════════════════════════════════════════════════════════╪══════════╡\n",
       "│ 0x1d93f60f105899172f7255c030301c3af4564edd4a48577dbdc448aec7ddb0ac ┆ 10365216 │\n",
       "│ 0xd80cd839dd3957d572b90780ada202a13936fa2875daea94216263371e9ef1d2 ┆ 6494337  │\n",
       "│ 0xc5d2460186f7233c927e7db2dcc703c0e500b653ca82273b7bfad8045d85a470 ┆ 4853969  │\n",
       "│ 0x562d59a51820d47f520c975e0b2bcffac644a509749a3161f481f57b6e826d21 ┆ 2324361  │\n",
       "│ ...                                                                ┆ ...      │\n",
       "│ 0x99c99f1a6d65a9097e0f8ca61683878ed26099e347359f5cdc600bd194dbe908 ┆ 1548789  │\n",
       "│ 0x647d5d7eb5af6fbf9ed95320cadf658cec3819ffa536adc7b6387fdf1b72123d ┆ 1542104  │\n",
       "│ 0x2df39c0062882ba634fb24c89e7f9871ecef10a6e6a6e79a336f6ed463d5c942 ┆ 1175582  │\n",
       "│ 0x905982d3bc98b3ad75d5ca7a92446cc8923fae39a2352245000f9d3e9dc0f3ee ┆ 1088378  │\n",
       "└────────────────────────────────────────────────────────────────────┴──────────┘"
      ]
     },
     "execution_count": 16,
     "metadata": {},
     "output_type": "execute_result"
    }
   ],
   "source": [
    "top_10_bytecodes = get_top_n(\"code_hash\", 10)\n",
    "\n",
    "top_10_bytecodes"
   ]
  },
  {
   "cell_type": "code",
   "execution_count": 17,
   "id": "24c3fcdc",
   "metadata": {
    "ExecuteTime": {
     "end_time": "2023-03-17T08:38:06.509533Z",
     "start_time": "2023-03-17T08:38:06.507328Z"
    }
   },
   "outputs": [
    {
     "name": "stdout",
     "output_type": "stream",
     "text": [
      "The top 10 bytecodes represent 56.4% of all contracts on Ethereum\n"
     ]
    }
   ],
   "source": [
    "top_10_bytecode_percent = toolstr.format(\n",
    "    top_10_bytecodes['counts'].sum() / n_deployments,\n",
    "    percentage=True,\n",
    "    decimals=1,\n",
    ")\n",
    "\n",
    "print('The top 10 bytecodes represent', top_10_bytecode_percent, 'of all contracts on Ethereum')"
   ]
  },
  {
   "cell_type": "markdown",
   "id": "0a3997ac",
   "metadata": {},
   "source": [
    "### Which contract addresses have been deployed the most number of times?"
   ]
  },
  {
   "cell_type": "code",
   "execution_count": 18,
   "id": "e1fbcca8",
   "metadata": {
    "ExecuteTime": {
     "end_time": "2023-03-17T08:38:23.759200Z",
     "start_time": "2023-03-17T08:38:06.510712Z"
    }
   },
   "outputs": [
    {
     "data": {
      "text/html": [
       "<div><style>\n",
       ".dataframe > thead > tr > th,\n",
       ".dataframe > tbody > tr > td {\n",
       "  text-align: right;\n",
       "}\n",
       "</style>\n",
       "<small>shape: (10, 2)</small><table border=\"1\" class=\"dataframe\"><thead><tr><th>contract_address</th><th>counts</th></tr><tr><td>str</td><td>u32</td></tr></thead><tbody><tr><td>&quot;0xba4ac7aadfa00003a20c954e077d5c81994c8ece&quot;</td><td>848</td></tr><tr><td>&quot;0x9c14d5cb81d576e97874b593bffdee670347bfd6&quot;</td><td>843</td></tr><tr><td>&quot;0xa46ec029df976770a75b2ce42fd4276ddc26a961&quot;</td><td>818</td></tr><tr><td>&quot;0x08bd3b769ffd7992e1d14101a2235eeff7232c57&quot;</td><td>817</td></tr><tr><td>&quot;0x3e2d8eabd99bc994d2ab4a804c6f804120af123e&quot;</td><td>743</td></tr><tr><td>&quot;0x71664ea68d994fb064aed08807257b2c6dfbd65d&quot;</td><td>730</td></tr><tr><td>&quot;0x472875a6fde6cc05b53e58f7e7064d5add45c4bf&quot;</td><td>729</td></tr><tr><td>&quot;0x8a454242940937c95dffb7b038fe27b61817f036&quot;</td><td>497</td></tr><tr><td>&quot;0x19486d3a1da8cfeb4cd19c9c4fe5624a6587673c&quot;</td><td>496</td></tr><tr><td>&quot;0x43adca66ac4d4037e4b5403bbe76fb25f33016c7&quot;</td><td>488</td></tr></tbody></table></div>"
      ],
      "text/plain": [
       "shape: (10, 2)\n",
       "┌────────────────────────────────────────────┬────────┐\n",
       "│ contract_address                           ┆ counts │\n",
       "│ ---                                        ┆ ---    │\n",
       "│ str                                        ┆ u32    │\n",
       "╞════════════════════════════════════════════╪════════╡\n",
       "│ 0xba4ac7aadfa00003a20c954e077d5c81994c8ece ┆ 848    │\n",
       "│ 0x9c14d5cb81d576e97874b593bffdee670347bfd6 ┆ 843    │\n",
       "│ 0xa46ec029df976770a75b2ce42fd4276ddc26a961 ┆ 818    │\n",
       "│ 0x08bd3b769ffd7992e1d14101a2235eeff7232c57 ┆ 817    │\n",
       "│ ...                                        ┆ ...    │\n",
       "│ 0x472875a6fde6cc05b53e58f7e7064d5add45c4bf ┆ 729    │\n",
       "│ 0x8a454242940937c95dffb7b038fe27b61817f036 ┆ 497    │\n",
       "│ 0x19486d3a1da8cfeb4cd19c9c4fe5624a6587673c ┆ 496    │\n",
       "│ 0x43adca66ac4d4037e4b5403bbe76fb25f33016c7 ┆ 488    │\n",
       "└────────────────────────────────────────────┴────────┘"
      ]
     },
     "execution_count": 18,
     "metadata": {},
     "output_type": "execute_result"
    }
   ],
   "source": [
    "top_10_contract_addresses = get_top_n('contract_address', 10)\n",
    "\n",
    "top_10_contract_addresses"
   ]
  },
  {
   "cell_type": "markdown",
   "id": "cb6992b0",
   "metadata": {},
   "source": [
    "### What is the most contracts deployed in a single transaction?"
   ]
  },
  {
   "cell_type": "code",
   "execution_count": 19,
   "id": "96fbc3a0",
   "metadata": {
    "ExecuteTime": {
     "end_time": "2023-03-17T08:38:32.266084Z",
     "start_time": "2023-03-17T08:38:23.760103Z"
    }
   },
   "outputs": [
    {
     "data": {
      "text/html": [
       "<div><style>\n",
       ".dataframe > thead > tr > th,\n",
       ".dataframe > tbody > tr > td {\n",
       "  text-align: right;\n",
       "}\n",
       "</style>\n",
       "<small>shape: (10, 2)</small><table border=\"1\" class=\"dataframe\"><thead><tr><th>transaction_hash</th><th>counts</th></tr><tr><td>str</td><td>u32</td></tr></thead><tbody><tr><td>&quot;0x81ab1942007f36adf8a8b5930e1b0e5e9f9880dca65e972a43b13be51cfe4ad4&quot;</td><td>701</td></tr><tr><td>&quot;0x46e7884e8a8d6663135d36a80ab0a9ee2bd286e6f82e4a359c7a2a7841224298&quot;</td><td>701</td></tr><tr><td>&quot;0x394937bc18f92f976faba76bf816b9da53d3708d14c71423ec490bbb7820b627&quot;</td><td>700</td></tr><tr><td>&quot;0x0fab831e2808129816a241472e64f9b680d6035326e696391c28acea4eb908ba&quot;</td><td>700</td></tr><tr><td>&quot;0xc92a2a570ee0048da8779a75ac2c8b98d1d0af49683aa92e46bb844899be1dc9&quot;</td><td>700</td></tr><tr><td>&quot;0x00a1f4b87db8f9e16f3912a8099580a6293805a95fb45f0d8d8ab50b685a8daa&quot;</td><td>700</td></tr><tr><td>&quot;0xeb5b8ead45667b9d1e0fbbf0eefec4122235afacee05aace04ca71b9b2f501ed&quot;</td><td>700</td></tr><tr><td>&quot;0x809ffb6ef139520603e4a5d620a9e501e5a885486bb3e6b1ddc8b49fe759cbfe&quot;</td><td>700</td></tr><tr><td>&quot;0x044eae45065067a8dc42280ed50bbbf00537bc8a68de2e516e0206a28bab1878&quot;</td><td>700</td></tr><tr><td>&quot;0xaa1a5d776d07f66fa943747ee2f7229a5ae9eba34400119285e486278ace4e4e&quot;</td><td>700</td></tr></tbody></table></div>"
      ],
      "text/plain": [
       "shape: (10, 2)\n",
       "┌────────────────────────────────────────────────────────────────────┬────────┐\n",
       "│ transaction_hash                                                   ┆ counts │\n",
       "│ ---                                                                ┆ ---    │\n",
       "│ str                                                                ┆ u32    │\n",
       "╞════════════════════════════════════════════════════════════════════╪════════╡\n",
       "│ 0x81ab1942007f36adf8a8b5930e1b0e5e9f9880dca65e972a43b13be51cfe4ad4 ┆ 701    │\n",
       "│ 0x46e7884e8a8d6663135d36a80ab0a9ee2bd286e6f82e4a359c7a2a7841224298 ┆ 701    │\n",
       "│ 0x394937bc18f92f976faba76bf816b9da53d3708d14c71423ec490bbb7820b627 ┆ 700    │\n",
       "│ 0x0fab831e2808129816a241472e64f9b680d6035326e696391c28acea4eb908ba ┆ 700    │\n",
       "│ ...                                                                ┆ ...    │\n",
       "│ 0xeb5b8ead45667b9d1e0fbbf0eefec4122235afacee05aace04ca71b9b2f501ed ┆ 700    │\n",
       "│ 0x809ffb6ef139520603e4a5d620a9e501e5a885486bb3e6b1ddc8b49fe759cbfe ┆ 700    │\n",
       "│ 0x044eae45065067a8dc42280ed50bbbf00537bc8a68de2e516e0206a28bab1878 ┆ 700    │\n",
       "│ 0xaa1a5d776d07f66fa943747ee2f7229a5ae9eba34400119285e486278ace4e4e ┆ 700    │\n",
       "└────────────────────────────────────────────────────────────────────┴────────┘"
      ]
     },
     "execution_count": 19,
     "metadata": {},
     "output_type": "execute_result"
    }
   ],
   "source": [
    "top_10_transactions = get_top_n('transaction_hash', 10)\n",
    "\n",
    "top_10_transactions"
   ]
  },
  {
   "cell_type": "markdown",
   "id": "a60183c8",
   "metadata": {},
   "source": [
    "### Which contracts have the most leading zeros?"
   ]
  },
  {
   "cell_type": "code",
   "execution_count": 19,
   "id": "e310fd72",
   "metadata": {
    "ExecuteTime": {
     "end_time": "2023-03-17T08:38:40.830127Z",
     "start_time": "2023-03-17T08:38:32.267245Z"
    },
    "tags": []
   },
   "outputs": [
    {
     "name": "stdout",
     "output_type": "stream",
     "text": [
      "0x089221e9611f5bf6f1ba215c10a1b28969c4bc6a 1\n",
      "0x25c74196404c932a6641f0e0d8d10775ef8c106f 0\n",
      "0x4bc7da322a54d6e9dcd44bc50a7c987037ef43c7 0\n",
      "0x4fce0c814754465bb4b4b70113b8604fbcdbbedd 0\n",
      "0x736e1b4fb2a78ffd65f68f6cf9d001cd954a2d5c 0\n",
      "0x93031f936388a58d14ca84607833475d7b930168 0\n",
      "0xbcf83d4a5965aa194b4acc0495e35321e27f9ed6 0\n",
      "0xcfe6ea39ce4920143fe5b07213ba0343033fa62a 0\n",
      "0x07aec74539d94f9072a345cc4a0b6073e2073ef4 1\n",
      "0xaedc4145e69395001460eaf9bc8fb36a41f02428 0\n"
     ]
    }
   ],
   "source": [
    "sorted_contracts = (\n",
    "    df\n",
    "    .select(pl.col('contract_address'))\n",
    "    .sort('contract_address')\n",
    "    .unique()\n",
    "    .head(10)\n",
    "    .collect(streaming=True)\n",
    ")['contract_address']\n",
    "\n",
    "for binary_address in sorted_contracts:\n",
    "    address = ctc.binary_convert(binary_address, 'prefix_hex')\n",
    "    print(address, 40 - len(address.lstrip('0x')))"
   ]
  },
  {
   "cell_type": "markdown",
   "id": "61265e7f",
   "metadata": {},
   "source": [
    "# We can also perform targeted queries"
   ]
  },
  {
   "cell_type": "markdown",
   "id": "002d1f92",
   "metadata": {},
   "source": [
    "### Who deployed this contract? When? What was the creation transaction?"
   ]
  },
  {
   "cell_type": "code",
   "execution_count": 20,
   "id": "07568399",
   "metadata": {
    "ExecuteTime": {
     "end_time": "2023-03-17T08:38:40.832894Z",
     "start_time": "2023-03-17T08:38:40.831239Z"
    },
    "tags": []
   },
   "outputs": [],
   "source": [
    "DAI = '0x6b175474e89094c44da98b954eedeac495271d0f'"
   ]
  },
  {
   "cell_type": "code",
   "execution_count": null,
   "id": "7dddb7c0",
   "metadata": {
    "ExecuteTime": {
     "end_time": "2023-03-17T08:38:57.220691Z",
     "start_time": "2023-03-17T08:38:40.833801Z"
    },
    "tags": []
   },
   "outputs": [],
   "source": [
    "binary_address = ctc.binary_convert(DAI, 'binary')\n",
    "\n",
    "result = (\n",
    "    df\n",
    "    .filter(pl.col('contract_address') == binary_address)\n",
    "    .collect(streaming=True)\n",
    ")\n",
    "pl_utils.binary_columns_to_prefix_hex(result)"
   ]
  },
  {
   "cell_type": "markdown",
   "id": "6f8890ea",
   "metadata": {
    "ExecuteTime": {
     "end_time": "2023-03-17T08:22:31.981030Z",
     "start_time": "2023-03-17T08:22:31.971910Z"
    }
   },
   "source": [
    "### What are all of the deployed Uniswap V2 pools?"
   ]
  },
  {
   "cell_type": "code",
   "execution_count": 6,
   "id": "9a00ca00",
   "metadata": {
    "ExecuteTime": {
     "end_time": "2023-03-17T08:38:57.223072Z",
     "start_time": "2023-03-17T08:38:57.221515Z"
    },
    "tags": []
   },
   "outputs": [],
   "source": [
    "example_pool = '0xb4e16d0168e52d35cacd2c6185b44281ec28c9dc'"
   ]
  },
  {
   "cell_type": "code",
   "execution_count": null,
   "id": "4ff7017c",
   "metadata": {
    "ExecuteTime": {
     "end_time": "2023-03-17T08:39:22.997491Z",
     "start_time": "2023-03-17T08:38:57.223827Z"
    },
    "tags": []
   },
   "outputs": [],
   "source": [
    "example_bytecode = await ctc.rpc.async_eth_get_code(example_pool)\n",
    "example_code_hash = ctc.keccak(example_bytecode, output_format='binary')\n",
    "\n",
    "result = (\n",
    "    df\n",
    "    .filter(pl.col('code_hash') == example_code_hash)\n",
    "    .collect(streaming=True)\n",
    ")\n",
    "pl_utils.binary_columns_to_prefix_hex(result)"
   ]
  },
  {
   "cell_type": "code",
   "execution_count": null,
   "id": "039d0e03-08c3-464a-85c9-dc42dc236302",
   "metadata": {},
   "outputs": [],
   "source": []
  }
 ],
 "metadata": {
  "availableInstances": [
   {
    "_defaultOrder": 0,
    "_isFastLaunch": true,
    "category": "General purpose",
    "gpuNum": 0,
    "hideHardwareSpecs": false,
    "memoryGiB": 4,
    "name": "ml.t3.medium",
    "vcpuNum": 2
   },
   {
    "_defaultOrder": 1,
    "_isFastLaunch": false,
    "category": "General purpose",
    "gpuNum": 0,
    "hideHardwareSpecs": false,
    "memoryGiB": 8,
    "name": "ml.t3.large",
    "vcpuNum": 2
   },
   {
    "_defaultOrder": 2,
    "_isFastLaunch": false,
    "category": "General purpose",
    "gpuNum": 0,
    "hideHardwareSpecs": false,
    "memoryGiB": 16,
    "name": "ml.t3.xlarge",
    "vcpuNum": 4
   },
   {
    "_defaultOrder": 3,
    "_isFastLaunch": false,
    "category": "General purpose",
    "gpuNum": 0,
    "hideHardwareSpecs": false,
    "memoryGiB": 32,
    "name": "ml.t3.2xlarge",
    "vcpuNum": 8
   },
   {
    "_defaultOrder": 4,
    "_isFastLaunch": true,
    "category": "General purpose",
    "gpuNum": 0,
    "hideHardwareSpecs": false,
    "memoryGiB": 8,
    "name": "ml.m5.large",
    "vcpuNum": 2
   },
   {
    "_defaultOrder": 5,
    "_isFastLaunch": false,
    "category": "General purpose",
    "gpuNum": 0,
    "hideHardwareSpecs": false,
    "memoryGiB": 16,
    "name": "ml.m5.xlarge",
    "vcpuNum": 4
   },
   {
    "_defaultOrder": 6,
    "_isFastLaunch": false,
    "category": "General purpose",
    "gpuNum": 0,
    "hideHardwareSpecs": false,
    "memoryGiB": 32,
    "name": "ml.m5.2xlarge",
    "vcpuNum": 8
   },
   {
    "_defaultOrder": 7,
    "_isFastLaunch": false,
    "category": "General purpose",
    "gpuNum": 0,
    "hideHardwareSpecs": false,
    "memoryGiB": 64,
    "name": "ml.m5.4xlarge",
    "vcpuNum": 16
   },
   {
    "_defaultOrder": 8,
    "_isFastLaunch": false,
    "category": "General purpose",
    "gpuNum": 0,
    "hideHardwareSpecs": false,
    "memoryGiB": 128,
    "name": "ml.m5.8xlarge",
    "vcpuNum": 32
   },
   {
    "_defaultOrder": 9,
    "_isFastLaunch": false,
    "category": "General purpose",
    "gpuNum": 0,
    "hideHardwareSpecs": false,
    "memoryGiB": 192,
    "name": "ml.m5.12xlarge",
    "vcpuNum": 48
   },
   {
    "_defaultOrder": 10,
    "_isFastLaunch": false,
    "category": "General purpose",
    "gpuNum": 0,
    "hideHardwareSpecs": false,
    "memoryGiB": 256,
    "name": "ml.m5.16xlarge",
    "vcpuNum": 64
   },
   {
    "_defaultOrder": 11,
    "_isFastLaunch": false,
    "category": "General purpose",
    "gpuNum": 0,
    "hideHardwareSpecs": false,
    "memoryGiB": 384,
    "name": "ml.m5.24xlarge",
    "vcpuNum": 96
   },
   {
    "_defaultOrder": 12,
    "_isFastLaunch": false,
    "category": "General purpose",
    "gpuNum": 0,
    "hideHardwareSpecs": false,
    "memoryGiB": 8,
    "name": "ml.m5d.large",
    "vcpuNum": 2
   },
   {
    "_defaultOrder": 13,
    "_isFastLaunch": false,
    "category": "General purpose",
    "gpuNum": 0,
    "hideHardwareSpecs": false,
    "memoryGiB": 16,
    "name": "ml.m5d.xlarge",
    "vcpuNum": 4
   },
   {
    "_defaultOrder": 14,
    "_isFastLaunch": false,
    "category": "General purpose",
    "gpuNum": 0,
    "hideHardwareSpecs": false,
    "memoryGiB": 32,
    "name": "ml.m5d.2xlarge",
    "vcpuNum": 8
   },
   {
    "_defaultOrder": 15,
    "_isFastLaunch": false,
    "category": "General purpose",
    "gpuNum": 0,
    "hideHardwareSpecs": false,
    "memoryGiB": 64,
    "name": "ml.m5d.4xlarge",
    "vcpuNum": 16
   },
   {
    "_defaultOrder": 16,
    "_isFastLaunch": false,
    "category": "General purpose",
    "gpuNum": 0,
    "hideHardwareSpecs": false,
    "memoryGiB": 128,
    "name": "ml.m5d.8xlarge",
    "vcpuNum": 32
   },
   {
    "_defaultOrder": 17,
    "_isFastLaunch": false,
    "category": "General purpose",
    "gpuNum": 0,
    "hideHardwareSpecs": false,
    "memoryGiB": 192,
    "name": "ml.m5d.12xlarge",
    "vcpuNum": 48
   },
   {
    "_defaultOrder": 18,
    "_isFastLaunch": false,
    "category": "General purpose",
    "gpuNum": 0,
    "hideHardwareSpecs": false,
    "memoryGiB": 256,
    "name": "ml.m5d.16xlarge",
    "vcpuNum": 64
   },
   {
    "_defaultOrder": 19,
    "_isFastLaunch": false,
    "category": "General purpose",
    "gpuNum": 0,
    "hideHardwareSpecs": false,
    "memoryGiB": 384,
    "name": "ml.m5d.24xlarge",
    "vcpuNum": 96
   },
   {
    "_defaultOrder": 20,
    "_isFastLaunch": false,
    "category": "General purpose",
    "gpuNum": 0,
    "hideHardwareSpecs": true,
    "memoryGiB": 0,
    "name": "ml.geospatial.interactive",
    "supportedImageNames": [
     "sagemaker-geospatial-v1-0"
    ],
    "vcpuNum": 0
   },
   {
    "_defaultOrder": 21,
    "_isFastLaunch": true,
    "category": "Compute optimized",
    "gpuNum": 0,
    "hideHardwareSpecs": false,
    "memoryGiB": 4,
    "name": "ml.c5.large",
    "vcpuNum": 2
   },
   {
    "_defaultOrder": 22,
    "_isFastLaunch": false,
    "category": "Compute optimized",
    "gpuNum": 0,
    "hideHardwareSpecs": false,
    "memoryGiB": 8,
    "name": "ml.c5.xlarge",
    "vcpuNum": 4
   },
   {
    "_defaultOrder": 23,
    "_isFastLaunch": false,
    "category": "Compute optimized",
    "gpuNum": 0,
    "hideHardwareSpecs": false,
    "memoryGiB": 16,
    "name": "ml.c5.2xlarge",
    "vcpuNum": 8
   },
   {
    "_defaultOrder": 24,
    "_isFastLaunch": false,
    "category": "Compute optimized",
    "gpuNum": 0,
    "hideHardwareSpecs": false,
    "memoryGiB": 32,
    "name": "ml.c5.4xlarge",
    "vcpuNum": 16
   },
   {
    "_defaultOrder": 25,
    "_isFastLaunch": false,
    "category": "Compute optimized",
    "gpuNum": 0,
    "hideHardwareSpecs": false,
    "memoryGiB": 72,
    "name": "ml.c5.9xlarge",
    "vcpuNum": 36
   },
   {
    "_defaultOrder": 26,
    "_isFastLaunch": false,
    "category": "Compute optimized",
    "gpuNum": 0,
    "hideHardwareSpecs": false,
    "memoryGiB": 96,
    "name": "ml.c5.12xlarge",
    "vcpuNum": 48
   },
   {
    "_defaultOrder": 27,
    "_isFastLaunch": false,
    "category": "Compute optimized",
    "gpuNum": 0,
    "hideHardwareSpecs": false,
    "memoryGiB": 144,
    "name": "ml.c5.18xlarge",
    "vcpuNum": 72
   },
   {
    "_defaultOrder": 28,
    "_isFastLaunch": false,
    "category": "Compute optimized",
    "gpuNum": 0,
    "hideHardwareSpecs": false,
    "memoryGiB": 192,
    "name": "ml.c5.24xlarge",
    "vcpuNum": 96
   },
   {
    "_defaultOrder": 29,
    "_isFastLaunch": true,
    "category": "Accelerated computing",
    "gpuNum": 1,
    "hideHardwareSpecs": false,
    "memoryGiB": 16,
    "name": "ml.g4dn.xlarge",
    "vcpuNum": 4
   },
   {
    "_defaultOrder": 30,
    "_isFastLaunch": false,
    "category": "Accelerated computing",
    "gpuNum": 1,
    "hideHardwareSpecs": false,
    "memoryGiB": 32,
    "name": "ml.g4dn.2xlarge",
    "vcpuNum": 8
   },
   {
    "_defaultOrder": 31,
    "_isFastLaunch": false,
    "category": "Accelerated computing",
    "gpuNum": 1,
    "hideHardwareSpecs": false,
    "memoryGiB": 64,
    "name": "ml.g4dn.4xlarge",
    "vcpuNum": 16
   },
   {
    "_defaultOrder": 32,
    "_isFastLaunch": false,
    "category": "Accelerated computing",
    "gpuNum": 1,
    "hideHardwareSpecs": false,
    "memoryGiB": 128,
    "name": "ml.g4dn.8xlarge",
    "vcpuNum": 32
   },
   {
    "_defaultOrder": 33,
    "_isFastLaunch": false,
    "category": "Accelerated computing",
    "gpuNum": 4,
    "hideHardwareSpecs": false,
    "memoryGiB": 192,
    "name": "ml.g4dn.12xlarge",
    "vcpuNum": 48
   },
   {
    "_defaultOrder": 34,
    "_isFastLaunch": false,
    "category": "Accelerated computing",
    "gpuNum": 1,
    "hideHardwareSpecs": false,
    "memoryGiB": 256,
    "name": "ml.g4dn.16xlarge",
    "vcpuNum": 64
   },
   {
    "_defaultOrder": 35,
    "_isFastLaunch": false,
    "category": "Accelerated computing",
    "gpuNum": 1,
    "hideHardwareSpecs": false,
    "memoryGiB": 61,
    "name": "ml.p3.2xlarge",
    "vcpuNum": 8
   },
   {
    "_defaultOrder": 36,
    "_isFastLaunch": false,
    "category": "Accelerated computing",
    "gpuNum": 4,
    "hideHardwareSpecs": false,
    "memoryGiB": 244,
    "name": "ml.p3.8xlarge",
    "vcpuNum": 32
   },
   {
    "_defaultOrder": 37,
    "_isFastLaunch": false,
    "category": "Accelerated computing",
    "gpuNum": 8,
    "hideHardwareSpecs": false,
    "memoryGiB": 488,
    "name": "ml.p3.16xlarge",
    "vcpuNum": 64
   },
   {
    "_defaultOrder": 38,
    "_isFastLaunch": false,
    "category": "Accelerated computing",
    "gpuNum": 8,
    "hideHardwareSpecs": false,
    "memoryGiB": 768,
    "name": "ml.p3dn.24xlarge",
    "vcpuNum": 96
   },
   {
    "_defaultOrder": 39,
    "_isFastLaunch": false,
    "category": "Memory Optimized",
    "gpuNum": 0,
    "hideHardwareSpecs": false,
    "memoryGiB": 16,
    "name": "ml.r5.large",
    "vcpuNum": 2
   },
   {
    "_defaultOrder": 40,
    "_isFastLaunch": false,
    "category": "Memory Optimized",
    "gpuNum": 0,
    "hideHardwareSpecs": false,
    "memoryGiB": 32,
    "name": "ml.r5.xlarge",
    "vcpuNum": 4
   },
   {
    "_defaultOrder": 41,
    "_isFastLaunch": false,
    "category": "Memory Optimized",
    "gpuNum": 0,
    "hideHardwareSpecs": false,
    "memoryGiB": 64,
    "name": "ml.r5.2xlarge",
    "vcpuNum": 8
   },
   {
    "_defaultOrder": 42,
    "_isFastLaunch": false,
    "category": "Memory Optimized",
    "gpuNum": 0,
    "hideHardwareSpecs": false,
    "memoryGiB": 128,
    "name": "ml.r5.4xlarge",
    "vcpuNum": 16
   },
   {
    "_defaultOrder": 43,
    "_isFastLaunch": false,
    "category": "Memory Optimized",
    "gpuNum": 0,
    "hideHardwareSpecs": false,
    "memoryGiB": 256,
    "name": "ml.r5.8xlarge",
    "vcpuNum": 32
   },
   {
    "_defaultOrder": 44,
    "_isFastLaunch": false,
    "category": "Memory Optimized",
    "gpuNum": 0,
    "hideHardwareSpecs": false,
    "memoryGiB": 384,
    "name": "ml.r5.12xlarge",
    "vcpuNum": 48
   },
   {
    "_defaultOrder": 45,
    "_isFastLaunch": false,
    "category": "Memory Optimized",
    "gpuNum": 0,
    "hideHardwareSpecs": false,
    "memoryGiB": 512,
    "name": "ml.r5.16xlarge",
    "vcpuNum": 64
   },
   {
    "_defaultOrder": 46,
    "_isFastLaunch": false,
    "category": "Memory Optimized",
    "gpuNum": 0,
    "hideHardwareSpecs": false,
    "memoryGiB": 768,
    "name": "ml.r5.24xlarge",
    "vcpuNum": 96
   },
   {
    "_defaultOrder": 47,
    "_isFastLaunch": false,
    "category": "Accelerated computing",
    "gpuNum": 1,
    "hideHardwareSpecs": false,
    "memoryGiB": 16,
    "name": "ml.g5.xlarge",
    "vcpuNum": 4
   },
   {
    "_defaultOrder": 48,
    "_isFastLaunch": false,
    "category": "Accelerated computing",
    "gpuNum": 1,
    "hideHardwareSpecs": false,
    "memoryGiB": 32,
    "name": "ml.g5.2xlarge",
    "vcpuNum": 8
   },
   {
    "_defaultOrder": 49,
    "_isFastLaunch": false,
    "category": "Accelerated computing",
    "gpuNum": 1,
    "hideHardwareSpecs": false,
    "memoryGiB": 64,
    "name": "ml.g5.4xlarge",
    "vcpuNum": 16
   },
   {
    "_defaultOrder": 50,
    "_isFastLaunch": false,
    "category": "Accelerated computing",
    "gpuNum": 1,
    "hideHardwareSpecs": false,
    "memoryGiB": 128,
    "name": "ml.g5.8xlarge",
    "vcpuNum": 32
   },
   {
    "_defaultOrder": 51,
    "_isFastLaunch": false,
    "category": "Accelerated computing",
    "gpuNum": 1,
    "hideHardwareSpecs": false,
    "memoryGiB": 256,
    "name": "ml.g5.16xlarge",
    "vcpuNum": 64
   },
   {
    "_defaultOrder": 52,
    "_isFastLaunch": false,
    "category": "Accelerated computing",
    "gpuNum": 4,
    "hideHardwareSpecs": false,
    "memoryGiB": 192,
    "name": "ml.g5.12xlarge",
    "vcpuNum": 48
   },
   {
    "_defaultOrder": 53,
    "_isFastLaunch": false,
    "category": "Accelerated computing",
    "gpuNum": 4,
    "hideHardwareSpecs": false,
    "memoryGiB": 384,
    "name": "ml.g5.24xlarge",
    "vcpuNum": 96
   },
   {
    "_defaultOrder": 54,
    "_isFastLaunch": false,
    "category": "Accelerated computing",
    "gpuNum": 8,
    "hideHardwareSpecs": false,
    "memoryGiB": 768,
    "name": "ml.g5.48xlarge",
    "vcpuNum": 192
   },
   {
    "_defaultOrder": 55,
    "_isFastLaunch": false,
    "category": "Accelerated computing",
    "gpuNum": 8,
    "hideHardwareSpecs": false,
    "memoryGiB": 1152,
    "name": "ml.p4d.24xlarge",
    "vcpuNum": 96
   },
   {
    "_defaultOrder": 56,
    "_isFastLaunch": false,
    "category": "Accelerated computing",
    "gpuNum": 8,
    "hideHardwareSpecs": false,
    "memoryGiB": 1152,
    "name": "ml.p4de.24xlarge",
    "vcpuNum": 96
   }
  ],
  "instance_type": "ml.g4dn.xlarge",
  "kernelspec": {
   "display_name": "Python 3 (Data Science 3.0)",
   "language": "python",
   "name": "python3__SAGEMAKER_INTERNAL__arn:aws:sagemaker:us-east-1:081325390199:image/sagemaker-data-science-310-v1"
  },
  "language_info": {
   "codemirror_mode": {
    "name": "ipython",
    "version": 3
   },
   "file_extension": ".py",
   "mimetype": "text/x-python",
   "name": "python",
   "nbconvert_exporter": "python",
   "pygments_lexer": "ipython3",
   "version": "3.10.6"
  }
 },
 "nbformat": 4,
 "nbformat_minor": 5
}
